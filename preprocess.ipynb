{
 "cells": [
  {
   "cell_type": "code",
   "execution_count": 1,
   "id": "dbf7019a",
   "metadata": {},
   "outputs": [
    {
     "name": "stdout",
     "output_type": "stream",
     "text": [
      "emotion\n",
      "calm        192\n",
      "happy       192\n",
      "sad         192\n",
      "angry       192\n",
      "disgust     192\n",
      "fear        192\n",
      "surprise    192\n",
      "neutral      96\n",
      "Name: count, dtype: int64\n"
     ]
    }
   ],
   "source": [
    "import os\n",
    "import pandas as pd\n",
    "\n",
    "RAV = \"D:/FPT/DPL/project3/ravdess\" \n",
    "\n",
    "dir_list = os.listdir(RAV)\n",
    "dir_list.sort()\n",
    "\n",
    "emotion = []\n",
    "path = []\n",
    "\n",
    "emotion_map = {\n",
    "    1: 'neutral',\n",
    "    2: 'calm',\n",
    "    3: 'happy',\n",
    "    4: 'sad',\n",
    "    5: 'angry',\n",
    "    6: 'fear',\n",
    "    7: 'disgust',\n",
    "    8: 'surprise'\n",
    "}\n",
    "\n",
    "for actor_folder in dir_list:\n",
    "    actor_path = os.path.join(RAV, actor_folder)\n",
    "    if not os.path.isdir(actor_path):\n",
    "        continue \n",
    "    files = os.listdir(actor_path)\n",
    "    for f in files:\n",
    "        if not f.endswith('.wav'):\n",
    "            continue\n",
    "        parts = f.split('.')[0].split('-')\n",
    "        if len(parts) < 3:\n",
    "            continue \n",
    "        emotion_id = int(parts[2])\n",
    "        emotion.append(emotion_map[emotion_id])\n",
    "        path.append(os.path.join(RAV, actor_folder, f))\n",
    "\n",
    "RAV_df = pd.DataFrame({\n",
    "    'emotion': emotion,\n",
    "    'path': path\n",
    "})\n",
    "\n",
    "print(RAV_df['emotion'].value_counts())\n"
   ]
  },
  {
   "cell_type": "code",
   "execution_count": 14,
   "id": "c9f2293f",
   "metadata": {},
   "outputs": [
    {
     "data": {
      "image/png": "[encoded data removed]",
      "text/plain": [
       "<Figure size 800x500 with 1 Axes>"
      ]
     },
     "metadata": {},
     "output_type": "display_data"
    }
   ],
   "source": [
    "import matplotlib.pyplot as plt\n",
    "\n",
    "plt.figure(figsize=(8, 5))\n",
    "RAV_df['emotion'].value_counts().plot(kind='bar', color='skyblue')\n",
    "plt.title('Emotion distribution in RAVDESS')\n",
    "plt.xlabel('Emotions')\n",
    "plt.ylabel('Number of samples')\n",
    "plt.xticks(rotation=45)\n",
    "plt.tight_layout()\n",
    "plt.show()"
   ]
  },
  {
   "cell_type": "markdown",
   "id": "be0eb6f9",
   "metadata": {},
   "source": [
    "## Preprocess\n"
   ]
  },
  {
   "cell_type": "code",
   "execution_count": null,
   "id": "991d4461",
   "metadata": {},
   "outputs": [],
   "source": [
    "import librosa\n",
    "import numpy as np\n",
    "import pandas as pd\n",
    "from tqdm import tqdm\n",
    "\n",
    "\n",
    "def extract_mfcc(file_path, n_mfcc=40, max_pad_len=862):\n",
    "    try:\n",
    "        audio, sr = librosa.load(file_path, sr=None)  # Keep orginal sampling rate\n",
    "        mfcc = librosa.feature.mfcc(y=audio, sr=sr, n_mfcc=n_mfcc)\n",
    "        \n",
    "        # Padding or cutting\n",
    "        if mfcc.shape[1] < max_pad_len:\n",
    "            pad_width = max_pad_len - mfcc.shape[1]\n",
    "            mfcc = np.pad(mfcc, pad_width=((0, 0), (0, pad_width)), mode='constant')\n",
    "        else:\n",
    "            mfcc = mfcc[:, :max_pad_len]\n",
    "            \n",
    "        return mfcc\n",
    "    except Exception as e:\n",
    "        print(f\"File error {file_path}: {e}\")\n",
    "        return None\n"
   ]
  },
  {
   "cell_type": "code",
   "execution_count": 4,
   "id": "1e8678aa",
   "metadata": {},
   "outputs": [
    {
     "name": "stderr",
     "output_type": "stream",
     "text": [
      "100%|██████████| 1440/1440 [00:50<00:00, 28.57it/s]\n"
     ]
    }
   ],
   "source": [
    "X = []\n",
    "y = []\n",
    "\n",
    "for i, row in tqdm(RAV_df.iterrows(), total=len(RAV_df)):\n",
    "    mfcc = extract_mfcc(row['path'])\n",
    "    if mfcc is not None:\n",
    "        X.append(mfcc)\n",
    "        y.append(row['emotion'])\n"
   ]
  },
  {
   "cell_type": "markdown",
   "id": "fa0e4c1c",
   "metadata": {},
   "source": [
    "Convert to numpy\n"
   ]
  },
  {
   "cell_type": "code",
   "execution_count": null,
   "id": "8084ebb8",
   "metadata": {},
   "outputs": [
    {
     "name": "stdout",
     "output_type": "stream",
     "text": [
      "Shape of X: (1440, 40, 862)\n",
      "Shape of y: (1440,)\n"
     ]
    }
   ],
   "source": [
    "X = np.array(X)\n",
    "y = np.array(y)\n",
    "\n",
    "print(\"Shape of X:\", X.shape) \n",
    "print(\"Shape of y:\", y.shape)"
   ]
  },
  {
   "cell_type": "markdown",
   "id": "835e231f",
   "metadata": {},
   "source": [
    "Save"
   ]
  },
  {
   "cell_type": "code",
   "execution_count": null,
   "id": "e14b7f7d",
   "metadata": {},
   "outputs": [],
   "source": [
    "np.save(\"X_mfcc.npy\", X)\n",
    "np.save(\"y_labels.npy\", y)"
   ]
  },
  {
   "cell_type": "markdown",
   "id": "1b7abdce",
   "metadata": {},
   "source": [
    "## Encode"
   ]
  },
  {
   "cell_type": "code",
   "execution_count": 8,
   "id": "109e704b",
   "metadata": {},
   "outputs": [
    {
     "name": "stdout",
     "output_type": "stream",
     "text": [
      "Label: [0 1 2 3 4 5 6 7]\n",
      "Label mapping: {np.str_('angry'): np.int64(0), np.str_('calm'): np.int64(1), np.str_('disgust'): np.int64(2), np.str_('fear'): np.int64(3), np.str_('happy'): np.int64(4), np.str_('neutral'): np.int64(5), np.str_('sad'): np.int64(6), np.str_('surprise'): np.int64(7)}\n",
      "Shape of y one-hot: (1440, 8)\n"
     ]
    }
   ],
   "source": [
    "from sklearn.preprocessing import LabelEncoder\n",
    "from tensorflow.keras.utils import to_categorical\n",
    "\n",
    "le = LabelEncoder()\n",
    "y_encoded = le.fit_transform(y) \n",
    "\n",
    "print(\"Label:\", np.unique(y_encoded))\n",
    "print(\"Label mapping:\", dict(zip(le.classes_, le.transform(le.classes_))))\n",
    "\n",
    "y_ohe = to_categorical(y_encoded)\n",
    "print(\"Shape of y one-hot:\", y_ohe.shape) \n",
    "\n",
    "np.save(\"y_encoded.npy\", y_encoded)\n",
    "np.save(\"y_ohe.npy\", y_ohe)\n"
   ]
  },
  {
   "cell_type": "markdown",
   "id": "8b5346da",
   "metadata": {},
   "source": [
    "## Augment neutral class\n"
   ]
  },
  {
   "cell_type": "code",
   "execution_count": 10,
   "id": "c3fc478c",
   "metadata": {},
   "outputs": [
    {
     "name": "stdout",
     "output_type": "stream",
     "text": [
      "Neutral samples: 96\n"
     ]
    }
   ],
   "source": [
    "X_neutral = X[y == 'neutral']\n",
    "y_neutral = y[y == 'neutral']\n",
    "\n",
    "print(\"Neutral samples:\", X_neutral.shape[0]) \n",
    "neutral_idx = le.transform(['neutral'])[0]\n",
    "X_neutral = X[y_encoded == neutral_idx]\n"
   ]
  },
  {
   "cell_type": "code",
   "execution_count": 11,
   "id": "e3fd39d3",
   "metadata": {},
   "outputs": [],
   "source": [
    "def augment_mfcc(mfcc, noise_factor=0.005, shift_max=10):\n",
    "    # Add noise\n",
    "    noise = np.random.randn(*mfcc.shape) * noise_factor\n",
    "    mfcc_noise = mfcc + noise\n",
    "\n",
    "    # Time translation\n",
    "    shift = np.random.randint(-shift_max, shift_max)\n",
    "    mfcc_shifted = np.roll(mfcc_noise, shift, axis=1)\n",
    "\n",
    "    return mfcc_shifted\n",
    "\n",
    "X_aug = []\n",
    "y_aug = []\n",
    "\n",
    "for mfcc in X_neutral:\n",
    "    aug_mfcc = augment_mfcc(mfcc)\n",
    "    X_aug.append(aug_mfcc)\n",
    "    y_aug.append('neutral')\n",
    "\n",
    "X_aug = np.array(X_aug)\n",
    "y_aug = np.array(y_aug)\n",
    "\n",
    "X_balanced = np.concatenate((X, X_aug), axis=0)\n",
    "y_balanced = np.concatenate((y, y_aug), axis=0)\n",
    "\n",
    "np.save(\"X_balanced.npy\", X_balanced)\n",
    "np.save(\"y_balanced.npy\", y_balanced)\n"
   ]
  },
  {
   "cell_type": "code",
   "execution_count": 13,
   "id": "ab802e7d",
   "metadata": {},
   "outputs": [
    {
     "name": "stdout",
     "output_type": "stream",
     "text": [
      "Number of samples after augmentation: 1536\n",
      "neutral     192\n",
      "calm        192\n",
      "happy       192\n",
      "sad         192\n",
      "angry       192\n",
      "fear        192\n",
      "disgust     192\n",
      "surprise    192\n",
      "Name: count, dtype: int64\n"
     ]
    }
   ],
   "source": [
    "print(\"Number of samples after augmentation:\", X_balanced.shape[0])\n",
    "print(pd.Series(y_balanced).value_counts())"
   ]
  }
 ],
 "metadata": {
  "kernelspec": {
   "display_name": "prj3",
   "language": "python",
   "name": "python3"
  },
  "language_info": {
   "codemirror_mode": {
    "name": "ipython",
    "version": 3
   },
   "file_extension": ".py",
   "mimetype": "text/x-python",
   "name": "python",
   "nbconvert_exporter": "python",
   "pygments_lexer": "ipython3",
   "version": "3.10.18"
  }
 },
 "nbformat": 4,
 "nbformat_minor": 5
}
